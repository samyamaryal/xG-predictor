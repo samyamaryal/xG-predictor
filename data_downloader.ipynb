{
 "cells": [
  {
   "cell_type": "code",
   "execution_count": 2,
   "id": "f84dd9b9",
   "metadata": {},
   "outputs": [
    {
     "name": "stderr",
     "output_type": "stream",
     "text": [
      "/Users/samyamaryal/Desktop/xG_prediction/.venv/lib/python3.13/site-packages/tqdm/auto.py:21: TqdmWarning: IProgress not found. Please update jupyter and ipywidgets. See https://ipywidgets.readthedocs.io/en/stable/user_install.html\n",
      "  from .autonotebook import tqdm as notebook_tqdm\n"
     ]
    }
   ],
   "source": [
    "import SoccerNet\n",
    "from SoccerNet.Downloader import SoccerNetDownloader\n",
    "mySoccerNetDownloader=SoccerNetDownloader(LocalDirectory=\"data/SoccerNet\")"
   ]
  },
  {
   "cell_type": "code",
   "execution_count": 3,
   "id": "2f9f3852",
   "metadata": {},
   "outputs": [],
   "source": [
    "mySoccerNetDownloader.password = \"s0cc3rn3t\""
   ]
  },
  {
   "cell_type": "code",
   "execution_count": null,
   "id": "8f3d5214",
   "metadata": {},
   "outputs": [
    {
     "name": "stderr",
     "output_type": "stream",
     "text": [
      "Downloading data/SoccerNet/england_epl/2014-2015/2015-02-21 - 18-00 Chelsea 1 - 1 Burnley/1_720p.mkv...: : 979MiB [01:24, 11.6MiB/s]                        \n",
      "Downloading data/SoccerNet/england_epl/2014-2015/2015-02-21 - 18-00 Chelsea 1 - 1 Burnley/2_720p.mkv...: : 996MiB [01:24, 11.7MiB/s]                        \n",
      "Downloading data/SoccerNet/england_epl/2014-2015/2015-02-21 - 18-00 Crystal Palace 1 - 2 Arsenal/1_720p.mkv...: : 1.10GiB [01:34, 11.7MiB/s]                         \n",
      "Downloading data/SoccerNet/england_epl/2014-2015/2015-02-21 - 18-00 Crystal Palace 1 - 2 Arsenal/2_720p.mkv...: : 1.12GiB [01:37, 11.4MiB/s]                         \n",
      "Downloading data/SoccerNet/england_epl/2014-2015/2015-02-21 - 18-00 Swansea 2 - 1 Manchester United/1_720p.mkv...: : 962MiB [01:24, 11.4MiB/s]                        \n",
      "Downloading data/SoccerNet/england_epl/2014-2015/2015-02-21 - 18-00 Swansea 2 - 1 Manchester United/2_720p.mkv...: : 1.06GiB [04:09, 4.25MiB/s]                         \n",
      "Downloading data/SoccerNet/england_epl/2014-2015/2015-02-22 - 19-15 Southampton 0 - 2 Liverpool/1_720p.mkv...: : 877MiB [02:39, 5.48MiB/s]                        \n",
      "Downloading data/SoccerNet/england_epl/2014-2015/2015-02-22 - 19-15 Southampton 0 - 2 Liverpool/2_720p.mkv...: : 961MiB [01:22, 11.6MiB/s]                        \n",
      "Downloading data/SoccerNet/england_epl/2015-2016/2015-08-08 - 19-30 Chelsea 2 - 2 Swansea/1_720p.mkv...: : 1.16GiB [01:40, 11.5MiB/s]                         \n",
      "Downloading data/SoccerNet/england_epl/2015-2016/2015-08-08 - 19-30 Chelsea 2 - 2 Swansea/2_720p.mkv...: : 1.19GiB [01:40, 11.9MiB/s]                         \n",
      "Downloading data/SoccerNet/england_epl/2015-2016/2015-08-29 - 17-00 Chelsea 1 - 2 Crystal Palace/1_720p.mkv...: : 833MiB [01:12, 11.5MiB/s]                        \n",
      "Downloading data/SoccerNet/england_epl/2015-2016/2015-08-29 - 17-00 Chelsea 1 - 2 Crystal Palace/2_720p.mkv...: : 842MiB [02:17, 6.11MiB/s]                        \n",
      "Downloading data/SoccerNet/england_epl/2015-2016/2015-08-29 - 17-00 Manchester City 2 - 0 Watford/1_720p.mkv...: : 789MiB [01:09, 11.3MiB/s]                        \n",
      "Downloading data/SoccerNet/england_epl/2015-2016/2015-08-29 - 17-00 Manchester City 2 - 0 Watford/2_720p.mkv...: : 769MiB [03:56, 3.24MiB/s]                        \n",
      "Downloading data/SoccerNet/england_epl/2015-2016/2015-09-12 - 14-45 Everton 3 - 1 Chelsea/1_720p.mkv...: : 883MiB [01:18, 11.2MiB/s]                        \n",
      "Downloading data/SoccerNet/england_epl/2015-2016/2015-09-12 - 14-45 Everton 3 - 1 Chelsea/2_720p.mkv...: : 938MiB [03:59, 3.92MiB/s]                        \n",
      "Downloading data/SoccerNet/england_epl/2015-2016/2015-09-12 - 17-00 Crystal Palace 0 - 1 Manchester City/1_720p.mkv...: : 904MiB [01:17, 11.7MiB/s]                        \n",
      "Downloading data/SoccerNet/england_epl/2015-2016/2015-09-12 - 17-00 Crystal Palace 0 - 1 Manchester City/2_720p.mkv...: : 1.06GiB [01:32, 11.5MiB/s]                         \n",
      "Downloading data/SoccerNet/england_epl/2015-2016/2015-09-19 - 19-30 Manchester City 1 - 2 West Ham/1_720p.mkv...: : 1.08GiB [03:46, 4.76MiB/s]                         \n",
      "Downloading data/SoccerNet/england_epl/2015-2016/2015-09-19 - 19-30 Manchester City 1 - 2 West Ham/2_720p.mkv...: : 1.03GiB [01:31, 11.3MiB/s]                         \n",
      "Downloading data/SoccerNet/england_epl/2015-2016/2015-09-26 - 17-00 Liverpool 3 - 2 Aston Villa/1_720p.mkv...: : 863MiB [03:58, 3.62MiB/s]                        \n",
      "Downloading data/SoccerNet/england_epl/2015-2016/2015-09-26 - 17-00 Liverpool 3 - 2 Aston Villa/2_720p.mkv...: : 916MiB [01:19, 11.5MiB/s]                        \n",
      "Downloading data/SoccerNet/england_epl/2015-2016/2015-10-17 - 17-00 Chelsea 2 - 0 Aston Villa/1_720p.mkv...: : 1.05GiB [01:31, 11.5MiB/s]                         \n",
      "Downloading data/SoccerNet/england_epl/2015-2016/2015-10-17 - 17-00 Chelsea 2 - 0 Aston Villa/2_720p.mkv...: : 1.09GiB [01:37, 11.1MiB/s]                         \n",
      "Downloading data/SoccerNet/england_epl/2015-2016/2015-10-31 - 15-45 Chelsea 1 - 3 Liverpool/1_720p.mkv...: : 878MiB [02:38, 5.53MiB/s]                        \n",
      "Downloading data/SoccerNet/england_epl/2015-2016/2015-10-31 - 15-45 Chelsea 1 - 3 Liverpool/2_720p.mkv...: : 871MiB [03:59, 3.64MiB/s]                        \n",
      "Downloading data/SoccerNet/england_epl/2015-2016/2015-11-07 - 18-00 Manchester United 2 - 0 West Brom/1_720p.mkv...: : 902MiB [01:19, 11.3MiB/s]                        \n",
      "Downloading data/SoccerNet/england_epl/2015-2016/2015-11-07 - 18-00 Manchester United 2 - 0 West Brom/2_720p.mkv...: : 894MiB [01:18, 11.4MiB/s]                        \n",
      "Downloading data/SoccerNet/england_epl/2015-2016/2015-11-21 - 20-30 Manchester City 1 - 4 Liverpool/1_720p.mkv...: : 930MiB [04:13, 3.67MiB/s]                        \n",
      "Downloading data/SoccerNet/england_epl/2015-2016/2015-11-21 - 20-30 Manchester City 1 - 4 Liverpool/2_720p.mkv...: : 977MiB [01:28, 11.0MiB/s]                        \n",
      "Downloading data/SoccerNet/england_epl/2015-2016/2015-11-29 - 15-00 Tottenham 0 - 0 Chelsea/1_720p.mkv...: : 895MiB [03:29, 4.28MiB/s]                        \n",
      "Downloading data/SoccerNet/england_epl/2015-2016/2015-11-29 - 15-00 Tottenham 0 - 0 Chelsea/2_720p.mkv...: : 939MiB [01:25, 11.0MiB/s]                        \n",
      "Downloading data/SoccerNet/england_epl/2015-2016/2015-12-05 - 20-30 Chelsea 0 - 1 Bournemouth/1_720p.mkv...: : 952MiB [03:40, 4.32MiB/s]                        \n",
      "Downloading data/SoccerNet/england_epl/2015-2016/2015-12-05 - 20-30 Chelsea 0 - 1 Bournemouth/2_720p.mkv...: : 937MiB [03:10, 4.91MiB/s]                        \n",
      "Downloading data/SoccerNet/england_epl/2015-2016/2015-12-19 - 18-00 Chelsea 3 - 1 Sunderland/1_720p.mkv...: : 624MiB [00:52, 11.9MiB/s]                        \n",
      "Downloading data/SoccerNet/england_epl/2015-2016/2015-12-19 - 18-00 Chelsea 3 - 1 Sunderland/2_720p.mkv...: : 640MiB [00:56, 11.3MiB/s]                        \n",
      "Downloading data/SoccerNet/england_epl/2015-2016/2015-12-26 - 18-00 Manchester City 4 - 1 Sunderland/1_720p.mkv...: : 808MiB [01:11, 11.4MiB/s]                        \n",
      "Downloading data/SoccerNet/england_epl/2015-2016/2015-12-26 - 18-00 Manchester City 4 - 1 Sunderland/2_720p.mkv...: : 786MiB [01:13, 10.7MiB/s]                        \n",
      "Downloading data/SoccerNet/england_epl/2015-2016/2016-01-03 - 16-30 Crystal Palace 0 - 3 Chelsea/1_720p.mkv...: : 1.00GiB [01:27, 11.4MiB/s]\n",
      "Downloading data/SoccerNet/england_epl/2015-2016/2016-01-03 - 16-30 Crystal Palace 0 - 3 Chelsea/2_720p.mkv...: : 973MiB [01:24, 11.5MiB/s]                        \n",
      "Downloading data/SoccerNet/england_epl/2015-2016/2016-01-13 - 22-45 Chelsea 2 - 2 West Brom/1_720p.mkv...: : 923MiB [01:23, 11.0MiB/s]                        \n",
      "Downloading data/SoccerNet/england_epl/2015-2016/2016-01-13 - 22-45 Chelsea 2 - 2 West Brom/2_720p.mkv...: : 954MiB [03:01, 5.26MiB/s]                        \n",
      "Downloading data/SoccerNet/england_epl/2015-2016/2016-02-07 - 19-00 Chelsea 1 - 1 Manchester United/1_720p.mkv...: : 915MiB [01:18, 11.7MiB/s]                        \n",
      "Downloading data/SoccerNet/england_epl/2015-2016/2016-02-07 - 19-00 Chelsea 1 - 1 Manchester United/2_720p.mkv...: : 1.05GiB [01:28, 11.8MiB/s]                         \n",
      "Downloading data/SoccerNet/england_epl/2015-2016/2016-02-14 - 19-15 Manchester City 1 - 2 Tottenham/1_720p.mkv...: : 994MiB [01:31, 10.8MiB/s]\n",
      "Downloading data/SoccerNet/england_epl/2015-2016/2016-02-14 - 19-15 Manchester City 1 - 2 Tottenham/2_720p.mkv...: : 952MiB [01:20, 11.8MiB/s]                        \n",
      "Downloading data/SoccerNet/england_epl/2015-2016/2016-03-02 - 23-00 Liverpool 3 - 0 Manchester City/1_720p.mkv...: : 865MiB [01:13, 11.8MiB/s]                        \n",
      "Downloading data/SoccerNet/england_epl/2015-2016/2016-03-02 - 23-00 Liverpool 3 - 0 Manchester City/2_720p.mkv...: : 881MiB [01:15, 11.7MiB/s]                        \n",
      "Downloading data/SoccerNet/england_epl/2015-2016/2016-03-05 - 18-00 Chelsea 1 - 1 Stoke City/1_720p.mkv...: : 1.02GiB [01:25, 12.0MiB/s]                         \n",
      "Downloading data/SoccerNet/england_epl/2015-2016/2016-03-05 - 18-00 Chelsea 1 - 1 Stoke City/2_720p.mkv...: : 1.05GiB [04:04, 4.31MiB/s]                         \n",
      "Downloading data/SoccerNet/england_epl/2015-2016/2016-03-19 - 18-00 Chelsea 2 - 2 West Ham/1_720p.mkv...: : 1.21GiB [01:38, 12.2MiB/s]                         \n"
     ]
    }
   ],
   "source": [
    "\n",
    "mySoccerNetDownloader.downloadGames(files=[\"1_720p.mkv\", \"2_720p.mkv\"], split=[\"train\",\"valid\",\"test\",\"challenge\"])"
   ]
  },
  {
   "cell_type": "code",
   "execution_count": null,
   "id": "b751e98c",
   "metadata": {},
   "outputs": [],
   "source": [
    "mySoccerNetDownloader.downloadGames(files=[\"1_ResNET_TF2_PCA512.npy\", \"2_ResNET_TF2_PCA512.npy\"], split=[\"train\",\"valid\",\"test\",\"challenge\"])\n"
   ]
  },
  {
   "cell_type": "code",
   "execution_count": 6,
   "id": "7a4973ec",
   "metadata": {},
   "outputs": [
    {
     "name": "stderr",
     "output_type": "stream",
     "text": [
      "Downloading data/SoccerNet/england_epl/2014-2015/2015-02-21 - 18-00 Chelsea 1 - 1 Burnley/1_baidu_soccer_embeddings.npy...: : 92.6MiB [00:59, 1.56MiB/s]                         \n",
      "Downloading data/SoccerNet/england_epl/2014-2015/2015-02-21 - 18-00 Chelsea 1 - 1 Burnley/2_baidu_soccer_embeddings.npy...: : 92.6MiB [01:52, 823kiB/s]                          \n",
      "Downloading data/SoccerNet/england_epl/2014-2015/2015-02-21 - 18-00 Crystal Palace 1 - 2 Arsenal/1_baidu_soccer_embeddings.npy...: : 94.9MiB [01:27, 1.08MiB/s]                         \n",
      "Downloading data/SoccerNet/england_epl/2014-2015/2015-02-21 - 18-00 Crystal Palace 1 - 2 Arsenal/2_baidu_soccer_embeddings.npy...: : 102MiB [02:04, 818kiB/s]                          \n",
      "Downloading data/SoccerNet/england_epl/2014-2015/2015-02-21 - 18-00 Swansea 2 - 1 Manchester United/1_baidu_soccer_embeddings.npy...: : 93.5MiB [00:56, 1.65MiB/s]                         \n",
      "Downloading data/SoccerNet/england_epl/2014-2015/2015-02-21 - 18-00 Swansea 2 - 1 Manchester United/2_baidu_soccer_embeddings.npy...: : 101MiB [01:31, 1.10MiB/s]                         \n",
      "Downloading data/SoccerNet/england_epl/2014-2015/2015-02-22 - 19-15 Southampton 0 - 2 Liverpool/1_baidu_soccer_embeddings.npy...: : 92.6MiB [01:30, 1.03MiB/s]                         \n",
      "Downloading data/SoccerNet/england_epl/2014-2015/2015-02-22 - 19-15 Southampton 0 - 2 Liverpool/2_baidu_soccer_embeddings.npy...: : 96.1MiB [01:05, 1.46MiB/s]                         \n",
      "Downloading data/SoccerNet/england_epl/2015-2016/2015-08-08 - 19-30 Chelsea 2 - 2 Swansea/1_baidu_soccer_embeddings.npy...: : 97.6MiB [01:06, 1.46MiB/s]                         \n",
      "Downloading data/SoccerNet/england_epl/2015-2016/2015-08-08 - 19-30 Chelsea 2 - 2 Swansea/2_baidu_soccer_embeddings.npy...: : 100MiB [02:07, 784kiB/s]                          \n",
      "Downloading data/SoccerNet/england_epl/2015-2016/2015-08-29 - 17-00 Chelsea 1 - 2 Crystal Palace/1_baidu_soccer_embeddings.npy...: : 92.6MiB [01:38, 936kiB/s]                          \n",
      "Downloading data/SoccerNet/england_epl/2015-2016/2015-08-29 - 17-00 Chelsea 1 - 2 Crystal Palace/2_baidu_soccer_embeddings.npy...: : 92.6MiB [01:10, 1.31MiB/s]                         \n",
      "Downloading data/SoccerNet/england_epl/2015-2016/2015-08-29 - 17-00 Manchester City 2 - 0 Watford/1_baidu_soccer_embeddings.npy...: : 92.6MiB [01:13, 1.25MiB/s]                         \n",
      "Downloading data/SoccerNet/england_epl/2015-2016/2015-08-29 - 17-00 Manchester City 2 - 0 Watford/2_baidu_soccer_embeddings.npy...: : 92.6MiB [00:58, 1.59MiB/s]                         \n",
      "Downloading data/SoccerNet/england_epl/2015-2016/2015-09-12 - 14-45 Everton 3 - 1 Chelsea/1_baidu_soccer_embeddings.npy...: : 92.6MiB [01:51, 829kiB/s]                          \n",
      "Downloading data/SoccerNet/england_epl/2015-2016/2015-09-12 - 14-45 Everton 3 - 1 Chelsea/2_baidu_soccer_embeddings.npy...: : 98.9MiB [00:36, 2.68MiB/s]                         \n",
      "Downloading data/SoccerNet/england_epl/2015-2016/2015-09-12 - 17-00 Crystal Palace 0 - 1 Manchester City/1_baidu_soccer_embeddings.npy...: : 92.6MiB [01:17, 1.19MiB/s]                         \n",
      "Downloading data/SoccerNet/england_epl/2015-2016/2015-09-12 - 17-00 Crystal Palace 0 - 1 Manchester City/2_baidu_soccer_embeddings.npy...: : 102MiB [01:10, 1.45MiB/s]                         \n",
      "Downloading data/SoccerNet/england_epl/2015-2016/2015-09-19 - 19-30 Manchester City 1 - 2 West Ham/1_baidu_soccer_embeddings.npy...:  98%|█████████▊| 101M/103M [01:09<00:01, 1.53MiB/s] "
     ]
    },
    {
     "ename": "ConnectionResetError",
     "evalue": "[Errno 54] Connection reset by peer",
     "output_type": "error",
     "traceback": [
      "\u001b[31m---------------------------------------------------------------------------\u001b[39m",
      "\u001b[31mConnectionResetError\u001b[39m                      Traceback (most recent call last)",
      "\u001b[36mCell\u001b[39m\u001b[36m \u001b[39m\u001b[32mIn[6]\u001b[39m\u001b[32m, line 1\u001b[39m\n\u001b[32m----> \u001b[39m\u001b[32m1\u001b[39m \u001b[43mmySoccerNetDownloader\u001b[49m\u001b[43m.\u001b[49m\u001b[43mdownloadGames\u001b[49m\u001b[43m(\u001b[49m\u001b[43mfiles\u001b[49m\u001b[43m=\u001b[49m\u001b[43m[\u001b[49m\u001b[33;43m\"\u001b[39;49m\u001b[33;43m1_baidu_soccer_embeddings.npy\u001b[39;49m\u001b[33;43m\"\u001b[39;49m\u001b[43m,\u001b[49m\u001b[43m \u001b[49m\u001b[33;43m\"\u001b[39;49m\u001b[33;43m2_baidu_soccer_embeddings.npy\u001b[39;49m\u001b[33;43m\"\u001b[39;49m\u001b[43m]\u001b[49m\u001b[43m,\u001b[49m\u001b[43m \u001b[49m\u001b[43msplit\u001b[49m\u001b[43m=\u001b[49m\u001b[43m[\u001b[49m\u001b[33;43m\"\u001b[39;49m\u001b[33;43mtrain\u001b[39;49m\u001b[33;43m\"\u001b[39;49m\u001b[43m,\u001b[49m\u001b[33;43m\"\u001b[39;49m\u001b[33;43mvalid\u001b[39;49m\u001b[33;43m\"\u001b[39;49m\u001b[43m,\u001b[49m\u001b[33;43m\"\u001b[39;49m\u001b[33;43mtest\u001b[39;49m\u001b[33;43m\"\u001b[39;49m\u001b[43m,\u001b[49m\u001b[33;43m\"\u001b[39;49m\u001b[33;43mchallenge\u001b[39;49m\u001b[33;43m\"\u001b[39;49m\u001b[43m]\u001b[49m\u001b[43m)\u001b[49m\n",
      "\u001b[36mFile \u001b[39m\u001b[32m~/Desktop/xG_prediction/.venv/lib/python3.13/site-packages/SoccerNet/Downloader.py:1302\u001b[39m, in \u001b[36mSoccerNetDownloader.downloadGames\u001b[39m\u001b[34m(self, files, split, task, verbose, randomized)\u001b[39m\n\u001b[32m   1299\u001b[39m     gamelist = random.sample(gamelist,\u001b[38;5;28mlen\u001b[39m(gamelist))\n\u001b[32m   1301\u001b[39m \u001b[38;5;28;01mfor\u001b[39;00m game \u001b[38;5;129;01min\u001b[39;00m gamelist:\n\u001b[32m-> \u001b[39m\u001b[32m1302\u001b[39m     \u001b[38;5;28;43mself\u001b[39;49m\u001b[43m.\u001b[49m\u001b[43mdownloadGame\u001b[49m\u001b[43m(\u001b[49m\u001b[43mgame\u001b[49m\u001b[43m=\u001b[49m\u001b[43mgame\u001b[49m\u001b[43m,\u001b[49m\u001b[43m \u001b[49m\u001b[43mfiles\u001b[49m\u001b[43m=\u001b[49m\u001b[43mfiles\u001b[49m\u001b[43m,\u001b[49m\u001b[43m \u001b[49m\u001b[43mspl\u001b[49m\u001b[43m=\u001b[49m\u001b[43mspl\u001b[49m\u001b[43m,\u001b[49m\u001b[43m \u001b[49m\u001b[43mverbose\u001b[49m\u001b[43m=\u001b[49m\u001b[43mverbose\u001b[49m\u001b[43m)\u001b[49m\n",
      "\u001b[36mFile \u001b[39m\u001b[32m~/Desktop/xG_prediction/.venv/lib/python3.13/site-packages/SoccerNet/Downloader.py:1284\u001b[39m, in \u001b[36mSoccerNetDownloader.downloadGame\u001b[39m\u001b[34m(self, game, files, spl, verbose)\u001b[39m\n\u001b[32m   1282\u001b[39m \u001b[38;5;66;03m# features\u001b[39;00m\n\u001b[32m   1283\u001b[39m \u001b[38;5;28;01melif\u001b[39;00m \u001b[38;5;28many\u001b[39m(feat \u001b[38;5;129;01min\u001b[39;00m file \u001b[38;5;28;01mfor\u001b[39;00m feat \u001b[38;5;129;01min\u001b[39;00m [\u001b[33m\"\u001b[39m\u001b[33mResNET\u001b[39m\u001b[33m\"\u001b[39m, \u001b[33m\"\u001b[39m\u001b[33mC3D\u001b[39m\u001b[33m\"\u001b[39m, \u001b[33m\"\u001b[39m\u001b[33mI3D\u001b[39m\u001b[33m\"\u001b[39m, \u001b[33m\"\u001b[39m\u001b[33mR25D\u001b[39m\u001b[33m\"\u001b[39m, \u001b[33m\"\u001b[39m\u001b[33mcalibration\u001b[39m\u001b[33m\"\u001b[39m, \u001b[33m\"\u001b[39m\u001b[33mplayer\u001b[39m\u001b[33m\"\u001b[39m, \u001b[33m\"\u001b[39m\u001b[33mfield\u001b[39m\u001b[33m\"\u001b[39m, \u001b[33m\"\u001b[39m\u001b[33mboundingbox\u001b[39m\u001b[33m\"\u001b[39m, \u001b[33m\"\u001b[39m\u001b[33m.npy\u001b[39m\u001b[33m\"\u001b[39m]):\n\u001b[32m-> \u001b[39m\u001b[32m1284\u001b[39m     res = \u001b[38;5;28;43mself\u001b[39;49m\u001b[43m.\u001b[49m\u001b[43mdownloadFile\u001b[49m\u001b[43m(\u001b[49m\u001b[43mpath_local\u001b[49m\u001b[43m=\u001b[49m\u001b[43mos\u001b[49m\u001b[43m.\u001b[49m\u001b[43mpath\u001b[49m\u001b[43m.\u001b[49m\u001b[43mjoin\u001b[49m\u001b[43m(\u001b[49m\u001b[43mGameDirectory\u001b[49m\u001b[43m,\u001b[49m\u001b[43m \u001b[49m\u001b[43mfile\u001b[49m\u001b[43m)\u001b[49m\u001b[43m,\u001b[49m\n\u001b[32m   1285\u001b[39m \u001b[43m                            \u001b[49m\u001b[43mpath_owncloud\u001b[49m\u001b[43m=\u001b[49m\u001b[43mFileURL\u001b[49m\u001b[43m,\u001b[49m\n\u001b[32m   1286\u001b[39m \u001b[43m                            \u001b[49m\u001b[43muser\u001b[49m\u001b[43m=\u001b[49m\u001b[33;43m\"\u001b[39;49m\u001b[33;43m9eRjic29XTk0gS9\u001b[39;49m\u001b[33;43m\"\u001b[39;49m\u001b[43m,\u001b[49m\u001b[43m  \u001b[49m\u001b[38;5;66;43;03m# user for Features\u001b[39;49;00m\n\u001b[32m   1287\u001b[39m \u001b[43m                            \u001b[49m\u001b[43mpassword\u001b[49m\u001b[43m=\u001b[49m\u001b[33;43m\"\u001b[39;49m\u001b[33;43mSoccerNet\u001b[39;49m\u001b[33;43m\"\u001b[39;49m\u001b[43m,\u001b[49m\n\u001b[32m   1288\u001b[39m \u001b[43m                            \u001b[49m\u001b[43mverbose\u001b[49m\u001b[43m=\u001b[49m\u001b[43mverbose\u001b[49m\u001b[43m)\u001b[49m\n",
      "\u001b[36mFile \u001b[39m\u001b[32m~/Desktop/xG_prediction/.venv/lib/python3.13/site-packages/SoccerNet/Downloader.py:72\u001b[39m, in \u001b[36mOwnCloudDownloader.downloadFile\u001b[39m\u001b[34m(self, path_local, path_owncloud, user, password, verbose)\u001b[39m\n\u001b[32m     70\u001b[39m \u001b[38;5;28;01mtry\u001b[39;00m:\n\u001b[32m     71\u001b[39m     os.makedirs(os.path.dirname(path_local), exist_ok=\u001b[38;5;28;01mTrue\u001b[39;00m)\n\u001b[32m---> \u001b[39m\u001b[32m72\u001b[39m     \u001b[43murllib\u001b[49m\u001b[43m.\u001b[49m\u001b[43mrequest\u001b[49m\u001b[43m.\u001b[49m\u001b[43murlretrieve\u001b[49m\u001b[43m(\u001b[49m\n\u001b[32m     73\u001b[39m \u001b[43m        \u001b[49m\u001b[43mpath_owncloud\u001b[49m\u001b[43m,\u001b[49m\u001b[43m \u001b[49m\u001b[43mpath_local\u001b[49m\u001b[43m,\u001b[49m\u001b[43m \u001b[49m\u001b[43mMyProgressBar\u001b[49m\u001b[43m(\u001b[49m\u001b[43mpath_local\u001b[49m\u001b[43m)\u001b[49m\u001b[43m)\u001b[49m\n\u001b[32m     75\u001b[39m \u001b[38;5;28;01mexcept\u001b[39;00m urllib.error.HTTPError \u001b[38;5;28;01mas\u001b[39;00m identifier:\n\u001b[32m     76\u001b[39m     \u001b[38;5;28mprint\u001b[39m(identifier)\n",
      "\u001b[36mFile \u001b[39m\u001b[32m/Library/Frameworks/Python.framework/Versions/3.13/lib/python3.13/urllib/request.py:242\u001b[39m, in \u001b[36murlretrieve\u001b[39m\u001b[34m(url, filename, reporthook, data)\u001b[39m\n\u001b[32m    239\u001b[39m \u001b[38;5;28;01mif\u001b[39;00m reporthook:\n\u001b[32m    240\u001b[39m     reporthook(blocknum, bs, size)\n\u001b[32m--> \u001b[39m\u001b[32m242\u001b[39m \u001b[38;5;28;01mwhile\u001b[39;00m block := \u001b[43mfp\u001b[49m\u001b[43m.\u001b[49m\u001b[43mread\u001b[49m\u001b[43m(\u001b[49m\u001b[43mbs\u001b[49m\u001b[43m)\u001b[49m:\n\u001b[32m    243\u001b[39m     read += \u001b[38;5;28mlen\u001b[39m(block)\n\u001b[32m    244\u001b[39m     tfp.write(block)\n",
      "\u001b[36mFile \u001b[39m\u001b[32m/Library/Frameworks/Python.framework/Versions/3.13/lib/python3.13/http/client.py:479\u001b[39m, in \u001b[36mHTTPResponse.read\u001b[39m\u001b[34m(self, amt)\u001b[39m\n\u001b[32m    476\u001b[39m \u001b[38;5;28;01mif\u001b[39;00m \u001b[38;5;28mself\u001b[39m.length \u001b[38;5;129;01mis\u001b[39;00m \u001b[38;5;129;01mnot\u001b[39;00m \u001b[38;5;28;01mNone\u001b[39;00m \u001b[38;5;129;01mand\u001b[39;00m amt > \u001b[38;5;28mself\u001b[39m.length:\n\u001b[32m    477\u001b[39m     \u001b[38;5;66;03m# clip the read to the \"end of response\"\u001b[39;00m\n\u001b[32m    478\u001b[39m     amt = \u001b[38;5;28mself\u001b[39m.length\n\u001b[32m--> \u001b[39m\u001b[32m479\u001b[39m s = \u001b[38;5;28;43mself\u001b[39;49m\u001b[43m.\u001b[49m\u001b[43mfp\u001b[49m\u001b[43m.\u001b[49m\u001b[43mread\u001b[49m\u001b[43m(\u001b[49m\u001b[43mamt\u001b[49m\u001b[43m)\u001b[49m\n\u001b[32m    480\u001b[39m \u001b[38;5;28;01mif\u001b[39;00m \u001b[38;5;129;01mnot\u001b[39;00m s \u001b[38;5;129;01mand\u001b[39;00m amt:\n\u001b[32m    481\u001b[39m     \u001b[38;5;66;03m# Ideally, we would raise IncompleteRead if the content-length\u001b[39;00m\n\u001b[32m    482\u001b[39m     \u001b[38;5;66;03m# wasn't satisfied, but it might break compatibility.\u001b[39;00m\n\u001b[32m    483\u001b[39m     \u001b[38;5;28mself\u001b[39m._close_conn()\n",
      "\u001b[36mFile \u001b[39m\u001b[32m/Library/Frameworks/Python.framework/Versions/3.13/lib/python3.13/socket.py:719\u001b[39m, in \u001b[36mSocketIO.readinto\u001b[39m\u001b[34m(self, b)\u001b[39m\n\u001b[32m    717\u001b[39m     \u001b[38;5;28;01mraise\u001b[39;00m \u001b[38;5;167;01mOSError\u001b[39;00m(\u001b[33m\"\u001b[39m\u001b[33mcannot read from timed out object\u001b[39m\u001b[33m\"\u001b[39m)\n\u001b[32m    718\u001b[39m \u001b[38;5;28;01mtry\u001b[39;00m:\n\u001b[32m--> \u001b[39m\u001b[32m719\u001b[39m     \u001b[38;5;28;01mreturn\u001b[39;00m \u001b[38;5;28;43mself\u001b[39;49m\u001b[43m.\u001b[49m\u001b[43m_sock\u001b[49m\u001b[43m.\u001b[49m\u001b[43mrecv_into\u001b[49m\u001b[43m(\u001b[49m\u001b[43mb\u001b[49m\u001b[43m)\u001b[49m\n\u001b[32m    720\u001b[39m \u001b[38;5;28;01mexcept\u001b[39;00m timeout:\n\u001b[32m    721\u001b[39m     \u001b[38;5;28mself\u001b[39m._timeout_occurred = \u001b[38;5;28;01mTrue\u001b[39;00m\n",
      "\u001b[36mFile \u001b[39m\u001b[32m/Library/Frameworks/Python.framework/Versions/3.13/lib/python3.13/ssl.py:1304\u001b[39m, in \u001b[36mSSLSocket.recv_into\u001b[39m\u001b[34m(self, buffer, nbytes, flags)\u001b[39m\n\u001b[32m   1300\u001b[39m     \u001b[38;5;28;01mif\u001b[39;00m flags != \u001b[32m0\u001b[39m:\n\u001b[32m   1301\u001b[39m         \u001b[38;5;28;01mraise\u001b[39;00m \u001b[38;5;167;01mValueError\u001b[39;00m(\n\u001b[32m   1302\u001b[39m           \u001b[33m\"\u001b[39m\u001b[33mnon-zero flags not allowed in calls to recv_into() on \u001b[39m\u001b[38;5;132;01m%s\u001b[39;00m\u001b[33m\"\u001b[39m %\n\u001b[32m   1303\u001b[39m           \u001b[38;5;28mself\u001b[39m.\u001b[34m__class__\u001b[39m)\n\u001b[32m-> \u001b[39m\u001b[32m1304\u001b[39m     \u001b[38;5;28;01mreturn\u001b[39;00m \u001b[38;5;28;43mself\u001b[39;49m\u001b[43m.\u001b[49m\u001b[43mread\u001b[49m\u001b[43m(\u001b[49m\u001b[43mnbytes\u001b[49m\u001b[43m,\u001b[49m\u001b[43m \u001b[49m\u001b[43mbuffer\u001b[49m\u001b[43m)\u001b[49m\n\u001b[32m   1305\u001b[39m \u001b[38;5;28;01melse\u001b[39;00m:\n\u001b[32m   1306\u001b[39m     \u001b[38;5;28;01mreturn\u001b[39;00m \u001b[38;5;28msuper\u001b[39m().recv_into(buffer, nbytes, flags)\n",
      "\u001b[36mFile \u001b[39m\u001b[32m/Library/Frameworks/Python.framework/Versions/3.13/lib/python3.13/ssl.py:1138\u001b[39m, in \u001b[36mSSLSocket.read\u001b[39m\u001b[34m(self, len, buffer)\u001b[39m\n\u001b[32m   1136\u001b[39m \u001b[38;5;28;01mtry\u001b[39;00m:\n\u001b[32m   1137\u001b[39m     \u001b[38;5;28;01mif\u001b[39;00m buffer \u001b[38;5;129;01mis\u001b[39;00m \u001b[38;5;129;01mnot\u001b[39;00m \u001b[38;5;28;01mNone\u001b[39;00m:\n\u001b[32m-> \u001b[39m\u001b[32m1138\u001b[39m         \u001b[38;5;28;01mreturn\u001b[39;00m \u001b[38;5;28;43mself\u001b[39;49m\u001b[43m.\u001b[49m\u001b[43m_sslobj\u001b[49m\u001b[43m.\u001b[49m\u001b[43mread\u001b[49m\u001b[43m(\u001b[49m\u001b[38;5;28;43mlen\u001b[39;49m\u001b[43m,\u001b[49m\u001b[43m \u001b[49m\u001b[43mbuffer\u001b[49m\u001b[43m)\u001b[49m\n\u001b[32m   1139\u001b[39m     \u001b[38;5;28;01melse\u001b[39;00m:\n\u001b[32m   1140\u001b[39m         \u001b[38;5;28;01mreturn\u001b[39;00m \u001b[38;5;28mself\u001b[39m._sslobj.read(\u001b[38;5;28mlen\u001b[39m)\n",
      "\u001b[31mConnectionResetError\u001b[39m: [Errno 54] Connection reset by peer"
     ]
    },
    {
     "name": "stderr",
     "output_type": "stream",
     "text": [
      "Downloading data/SoccerNet/england_epl/2015-2016/2015-09-19 - 19-30 Manchester City 1 - 2 West Ham/1_baidu_soccer_embeddings.npy...:  98%|█████████▊| 101M/103M [15:52<00:01, 1.53MiB/s]"
     ]
    }
   ],
   "source": [
    "mySoccerNetDownloader.downloadGames(files=[\"1_baidu_soccer_embeddings.npy\", \"2_baidu_soccer_embeddings.npy\"], split=[\"train\",\"valid\",\"test\",\"challenge\"])"
   ]
  },
  {
   "cell_type": "code",
   "execution_count": null,
   "id": "11c32d7b",
   "metadata": {},
   "outputs": [],
   "source": []
  }
 ],
 "metadata": {
  "kernelspec": {
   "display_name": ".venv",
   "language": "python",
   "name": "python3"
  },
  "language_info": {
   "codemirror_mode": {
    "name": "ipython",
    "version": 3
   },
   "file_extension": ".py",
   "mimetype": "text/x-python",
   "name": "python",
   "nbconvert_exporter": "python",
   "pygments_lexer": "ipython3",
   "version": "3.13.7"
  }
 },
 "nbformat": 4,
 "nbformat_minor": 5
}
